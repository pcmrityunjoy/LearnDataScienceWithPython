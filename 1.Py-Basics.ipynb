{
 "cells": [
  {
   "cell_type": "code",
   "execution_count": 2,
   "metadata": {},
   "outputs": [
    {
     "name": "stdout",
     "output_type": "stream",
     "text": [
      "Hello World!\n"
     ]
    }
   ],
   "source": [
    "# this is how we write single line comments. Comments are useful to document your code to improve code understanding\n",
    "'''\n",
    "Here we can write multiple\n",
    "line comments, the python interpreter will ignore anything that's written here.\n",
    "Why do we have to comment, cause 'Your code also for humans to understand'\n",
    "\n",
    "'''\n",
    "\n",
    "print('Hello World!')\n"
   ]
  },
  {
   "cell_type": "code",
   "execution_count": 7,
   "metadata": {},
   "outputs": [
    {
     "name": "stdout",
     "output_type": "stream",
     "text": [
      "Hello\n",
      "World \t \t Let us learn about Python\n"
     ]
    }
   ],
   "source": [
    "#There are a number of escape sequences in Python, most commonly used are the new-line (\\n), \\t is for tab\n",
    "print('Hello\\nWorld \\t \\t Let us learn about Python')"
   ]
  },
  {
   "cell_type": "code",
   "execution_count": 12,
   "metadata": {},
   "outputs": [
    {
     "data": {
      "text/plain": [
       "int"
      ]
     },
     "execution_count": 12,
     "metadata": {},
     "output_type": "execute_result"
    }
   ],
   "source": [
    "'''Python Data types - the types of data that's being stored in memory or used by the program. Most common data types are\n",
    "INTEGERS, FLOAT, STRING and BOOLEAN\n",
    "'''\n",
    "type(10)"
   ]
  },
  {
   "cell_type": "code",
   "execution_count": 13,
   "metadata": {},
   "outputs": [
    {
     "data": {
      "text/plain": [
       "float"
      ]
     },
     "execution_count": 13,
     "metadata": {},
     "output_type": "execute_result"
    }
   ],
   "source": [
    "type(100.3)"
   ]
  },
  {
   "cell_type": "code",
   "execution_count": 20,
   "metadata": {},
   "outputs": [
    {
     "data": {
      "text/plain": [
       "str"
      ]
     },
     "execution_count": 20,
     "metadata": {},
     "output_type": "execute_result"
    }
   ],
   "source": [
    "type('hey!')"
   ]
  },
  {
   "cell_type": "code",
   "execution_count": 25,
   "metadata": {},
   "outputs": [
    {
     "name": "stdout",
     "output_type": "stream",
     "text": [
      "<class 'bool'>\n",
      "<class 'bool'>\n"
     ]
    }
   ],
   "source": [
    "print(type(True))\n",
    "print(type(False))"
   ]
  },
  {
   "cell_type": "code",
   "execution_count": 16,
   "metadata": {},
   "outputs": [
    {
     "data": {
      "text/plain": [
       "2"
      ]
     },
     "execution_count": 16,
     "metadata": {},
     "output_type": "execute_result"
    }
   ],
   "source": [
    "#type casting is a way to change the data type \n",
    "int(2.4)"
   ]
  },
  {
   "cell_type": "code",
   "execution_count": 19,
   "metadata": {},
   "outputs": [
    {
     "data": {
      "text/plain": [
       "1.0"
      ]
     },
     "execution_count": 19,
     "metadata": {},
     "output_type": "execute_result"
    }
   ],
   "source": [
    "float(1)"
   ]
  },
  {
   "cell_type": "code",
   "execution_count": 28,
   "metadata": {},
   "outputs": [
    {
     "data": {
      "text/plain": [
       "'1'"
      ]
     },
     "execution_count": 28,
     "metadata": {},
     "output_type": "execute_result"
    }
   ],
   "source": [
    "str(1)"
   ]
  },
  {
   "cell_type": "code",
   "execution_count": null,
   "metadata": {},
   "outputs": [],
   "source": [
    "#Expressions are basic mathematical operations like +, - , * and /"
   ]
  },
  {
   "cell_type": "code",
   "execution_count": 32,
   "metadata": {},
   "outputs": [
    {
     "name": "stdout",
     "output_type": "stream",
     "text": [
      "Addition: 3\n",
      "Subtraction: -8\n",
      "Multiplication: 20\n",
      "Division: 5.0\n",
      "Modulus: 1\n"
     ]
    }
   ],
   "source": [
    "print('Addition:',1+2)\n",
    "print('Subtraction:',12-20)\n",
    "print(\"Multiplication:\",2*10)\n",
    "print('Division:',10/2)\n",
    "print('Modulus:',11%2)"
   ]
  },
  {
   "cell_type": "code",
   "execution_count": 35,
   "metadata": {},
   "outputs": [],
   "source": [
    "#Variables are used to store values, it is done with the help of assignment operator =\n",
    "\n",
    "var_int = 2\n",
    "var_float = 3.0\n",
    "var_string = 'Hello'\n"
   ]
  },
  {
   "cell_type": "code",
   "execution_count": 36,
   "metadata": {},
   "outputs": [
    {
     "name": "stdout",
     "output_type": "stream",
     "text": [
      "Value stored in the new variable is  5.0\n"
     ]
    }
   ],
   "source": [
    "# We can create new variables and assign values of different operations to them\n",
    "var_new = var_int+var_float\n",
    "print('Value stored in the new variable is ',var_new)"
   ]
  },
  {
   "cell_type": "code",
   "execution_count": 39,
   "metadata": {},
   "outputs": [
    {
     "name": "stdout",
     "output_type": "stream",
     "text": [
      "10\n"
     ]
    }
   ],
   "source": [
    "#We can update an existing variable\n",
    "var_int = 10\n",
    "print(var_int)\n"
   ]
  },
  {
   "cell_type": "code",
   "execution_count": 52,
   "metadata": {},
   "outputs": [
    {
     "name": "stdout",
     "output_type": "stream",
     "text": [
      "The first charcter: H\n",
      "The second charcter: e\n",
      "The third character: l\n",
      "The 2nd last character: p\n",
      "The last character: ?\n"
     ]
    }
   ],
   "source": [
    "#Strings are a collection of characters\n",
    "string_sample = \"Hello World What up?\"\n",
    "\n",
    "#aceessing string characters \n",
    "print('The first charcter:',string_sample[0]) \n",
    "print('The second charcter:',string_sample[1]) \n",
    "print('The third character:',string_sample[2])\n",
    "print('The 2nd last character:',string_sample[-2])\n",
    "print('The last character:',string_sample[-1])"
   ]
  },
  {
   "cell_type": "code",
   "execution_count": 66,
   "metadata": {},
   "outputs": [
    {
     "name": "stdout",
     "output_type": "stream",
     "text": [
      "print the first 2 characters: He\n",
      "print characters from 3 till 9th: lo Worl\n",
      "print characters till 9th index: Hello Wor\n",
      "print characters till 9th index: Hello Wor\n",
      "print with stride every 2 characters HloWrdWa p\n",
      "print every 2nd character till index 10 HloWr\n"
     ]
    }
   ],
   "source": [
    "#We can slice strings to get characters from a particular index number\n",
    "\n",
    "print('print the first 2 characters:',string_sample[0:2])\n",
    "print('print characters from 3 till 9th:',string_sample[3:10])\n",
    "print('print characters till 9th index:',string_sample[:9])\n",
    "print('print characters till 9th index:',string_sample[:9])\n",
    "print('print with stride every 2 characters',string_sample[::2])\n",
    "print('print every 2nd character till index 10',string_sample[0:10:2])"
   ]
  },
  {
   "cell_type": "code",
   "execution_count": 69,
   "metadata": {},
   "outputs": [
    {
     "name": "stdout",
     "output_type": "stream",
     "text": [
      "The length of the string is: 20\n",
      "Concatenating 2 characters: Hell\n",
      "Replicating strings: Hello World What up?Hello World What up?\n"
     ]
    }
   ],
   "source": [
    "#operations being performed on Strings\n",
    "print('The length of the string is:',len(string_sample))\n",
    "print('Concatenating 2 characters:',string_sample[0]+string_sample[1:4])\n",
    "print('Replicating strings:',string_sample*2)"
   ]
  },
  {
   "cell_type": "code",
   "execution_count": 76,
   "metadata": {},
   "outputs": [
    {
     "name": "stdout",
     "output_type": "stream",
     "text": [
      "Converting the string to upper case: HELLO WORLD WHAT UP?\n",
      "Replacing words: Hello planet earth What up?\n",
      "Finding index of a string: 6\n"
     ]
    },
    {
     "data": {
      "text/plain": [
       "-1"
      ]
     },
     "execution_count": 76,
     "metadata": {},
     "output_type": "execute_result"
    }
   ],
   "source": [
    "# Methods on String\n",
    "\n",
    "print('Converting the string to upper case:',string_sample.upper())\n",
    "\n",
    "print('Replacing words:',string_sample.replace('World','planet earth')) #this is case-sensitive\n",
    "\n",
    "print('Finding index of a string:',string_sample.find('World')) #returns the index of the first character given\n",
    "\n",
    "string_sample.find('X') # if the character is not present it returns a negative integer\n"
   ]
  },
  {
   "cell_type": "code",
   "execution_count": null,
   "metadata": {},
   "outputs": [],
   "source": []
  }
 ],
 "metadata": {
  "kernelspec": {
   "display_name": "Python 3",
   "language": "python",
   "name": "python3"
  },
  "language_info": {
   "codemirror_mode": {
    "name": "ipython",
    "version": 3
   },
   "file_extension": ".py",
   "mimetype": "text/x-python",
   "name": "python",
   "nbconvert_exporter": "python",
   "pygments_lexer": "ipython3",
   "version": "3.7.1"
  }
 },
 "nbformat": 4,
 "nbformat_minor": 2
}
