{
 "cells": [
  {
   "cell_type": "code",
   "execution_count": 4,
   "metadata": {},
   "outputs": [],
   "source": [
    "# Data Structures in Python - Tuples, List and Dictionaries (and Set)"
   ]
  },
  {
   "cell_type": "code",
   "execution_count": 15,
   "metadata": {},
   "outputs": [
    {
     "data": {
      "text/plain": [
       "tuple"
      ]
     },
     "execution_count": 15,
     "metadata": {},
     "output_type": "execute_result"
    }
   ],
   "source": [
    "# Tuples are an ordered sequences, and can have multiple data types\n",
    "\n",
    "sample_tuple = (1,2.0,'tuple')\n",
    "type(sample_tuple)"
   ]
  },
  {
   "cell_type": "code",
   "execution_count": 16,
   "metadata": {},
   "outputs": [
    {
     "data": {
      "text/plain": [
       "2.0"
      ]
     },
     "execution_count": 16,
     "metadata": {},
     "output_type": "execute_result"
    }
   ],
   "source": [
    "# Acessing tuples is same as accessing string\n",
    "sample_tuple[1]"
   ]
  },
  {
   "cell_type": "code",
   "execution_count": 17,
   "metadata": {},
   "outputs": [
    {
     "name": "stdout",
     "output_type": "stream",
     "text": [
      "(1, 2.0, 'tuple', 'Hello World', 13)\n"
     ]
    }
   ],
   "source": [
    "# Adding items to tupple\n",
    "sample_tuple=sample_tuple+('Hello World',13)\n",
    "print(sample_tuple)"
   ]
  },
  {
   "cell_type": "code",
   "execution_count": 18,
   "metadata": {},
   "outputs": [
    {
     "ename": "TypeError",
     "evalue": "'tuple' object does not support item assignment",
     "output_type": "error",
     "traceback": [
      "\u001b[1;31m---------------------------------------------------------------------------\u001b[0m",
      "\u001b[1;31mTypeError\u001b[0m                                 Traceback (most recent call last)",
      "\u001b[1;32m<ipython-input-18-5eaaef89a35f>\u001b[0m in \u001b[0;36m<module>\u001b[1;34m\u001b[0m\n\u001b[0;32m      1\u001b[0m \u001b[1;31m# Tupples are immutable\u001b[0m\u001b[1;33m\u001b[0m\u001b[1;33m\u001b[0m\u001b[1;33m\u001b[0m\u001b[0m\n\u001b[1;32m----> 2\u001b[1;33m \u001b[0msample_tuple\u001b[0m\u001b[1;33m[\u001b[0m\u001b[1;36m0\u001b[0m\u001b[1;33m]\u001b[0m\u001b[1;33m=\u001b[0m\u001b[1;34m'h'\u001b[0m\u001b[1;33m\u001b[0m\u001b[1;33m\u001b[0m\u001b[0m\n\u001b[0m",
      "\u001b[1;31mTypeError\u001b[0m: 'tuple' object does not support item assignment"
     ]
    }
   ],
   "source": [
    "# Tupples are immutable\n",
    "sample_tuple[0]='h' #This gives an error cause we can't uptade items of a list"
   ]
  },
  {
   "cell_type": "code",
   "execution_count": 23,
   "metadata": {},
   "outputs": [
    {
     "data": {
      "text/plain": [
       "[9, 29, 91, 111, 300]"
      ]
     },
     "execution_count": 23,
     "metadata": {},
     "output_type": "execute_result"
    }
   ],
   "source": [
    "# functions on tupples\n",
    "new_tuple = (111,29,9,300,91)\n",
    "sorted(new_tuple) # this sorts the tuple in ascending order\n"
   ]
  },
  {
   "cell_type": "code",
   "execution_count": 26,
   "metadata": {},
   "outputs": [
    {
     "name": "stdout",
     "output_type": "stream",
     "text": [
      "Print the first element of tuple: 1\n",
      "Print the 3rd element of the 2nd item of the main tuple: h\n"
     ]
    }
   ],
   "source": [
    "#Tuple Nesting means tuples inside tuples\n",
    "\n",
    "tuple_nested = (1,(2,3,'h'),09.1,('H','A',2))\n",
    "\n",
    "#Accessing these items\n",
    "\n",
    "print('Print the first element of tuple:',tuple_nested[0])\n",
    "print('Print the 3rd element of the 2nd item of the main tuple:',tuple_nested[1][2])\n",
    "\n"
   ]
  },
  {
   "cell_type": "code",
   "execution_count": null,
   "metadata": {},
   "outputs": [],
   "source": []
  },
  {
   "cell_type": "code",
   "execution_count": 42,
   "metadata": {},
   "outputs": [
    {
     "name": "stdout",
     "output_type": "stream",
     "text": [
      "Access the 2nd index of the 3rd element of main list Hi\n",
      "List Before: [1, 2.0, 'string', [1, 2, 'Hi'], (1, 2, 'tuple')]\n",
      "List After: [1, 2.0, 'string', [1, 2, 'Hi'], (1, 2, 'tuple'), 3, 4]\n"
     ]
    }
   ],
   "source": [
    "#List are ordered sequences, the only difference with tuple is that lists are mutable\n",
    "# Lists can contain integers, strings, float, lists and tuples\n",
    "\n",
    "list_sample = [1,2.0,'string',[1,2,'Hi'],(1,2,'tuple')]\n",
    "\n",
    "print('Access the 2nd index of the 3rd element of main list',list_sample[3][2])\n",
    "print('List Before:',list_sample)\n",
    "list_sample = list_sample+[3,4]\n",
    "print('List After:',list_sample)"
   ]
  },
  {
   "cell_type": "code",
   "execution_count": 43,
   "metadata": {},
   "outputs": [
    {
     "name": "stdout",
     "output_type": "stream",
     "text": [
      "[1, 2.0, 'string', [1, 2, 'Hi'], (1, 2, 'tuple'), 3, 4, 1111, 'last']\n",
      "After Append function: [1, 2.0, 'string', [1, 2, 'Hi'], (1, 2, 'tuple'), 3, 4, 1111, 'last', [1111, 'last']]\n"
     ]
    }
   ],
   "source": [
    "#Adding items to the list\n",
    "list_sample.extend([1111,'last'])\n",
    "print(list_sample)\n",
    "list_sample.append([1111,'last'])\n",
    "print('After Append function:',list_sample) #this appends the list to the last element of list"
   ]
  },
  {
   "cell_type": "code",
   "execution_count": 40,
   "metadata": {},
   "outputs": [
    {
     "name": "stdout",
     "output_type": "stream",
     "text": [
      "List Before: [1, 2.0, 'string', [1, 2, 'Hi'], (1, 2, 'tuple'), 3, 4, 1111, 'last']\n",
      "List After: ['new elt', 2.0, 'string', [1, 2, 'Hi'], (1, 2, 'tuple'), 3, 4, 1111, 'last']\n"
     ]
    }
   ],
   "source": [
    "# Updating the list\n",
    "print('List Before:',list_sample)\n",
    "list_sample[0]='new elt'\n",
    "print('List After:',list_sample)\n",
    "\n"
   ]
  },
  {
   "cell_type": "code",
   "execution_count": 45,
   "metadata": {},
   "outputs": [
    {
     "name": "stdout",
     "output_type": "stream",
     "text": [
      "Before: [2.0, 'string', [1, 2, 'Hi'], (1, 2, 'tuple'), 3, 4, 1111, 'last', [1111, 'last']]\n",
      "After:  ['string', [1, 2, 'Hi'], (1, 2, 'tuple'), 3, 4, 1111, 'last', [1111, 'last']]\n"
     ]
    }
   ],
   "source": [
    "# Delete elements of a list\n",
    "print('Before:',list_sample)\n",
    "del(list_sample[0])\n",
    "print('After: ',list_sample)\n",
    "\n"
   ]
  },
  {
   "cell_type": "code",
   "execution_count": null,
   "metadata": {},
   "outputs": [],
   "source": [
    "'''\n",
    "Sets are collections similar to list and tuples. The only difference is that sets are not mutable and don't contain duplicates.\n",
    "Sets are also unordered, meaning they don't store positions.\n",
    "'''"
   ]
  },
  {
   "cell_type": "code",
   "execution_count": 73,
   "metadata": {},
   "outputs": [
    {
     "name": "stdout",
     "output_type": "stream",
     "text": [
      "{1, 2, 3, 'hello', 'world'}\n"
     ]
    }
   ],
   "source": [
    "set_sample = {1,2,3,1,3,'hello','world'} # Even though duplicate items are fed, the set will discard them\n",
    "print(set_sample) "
   ]
  },
  {
   "cell_type": "code",
   "execution_count": 74,
   "metadata": {},
   "outputs": [
    {
     "name": "stdout",
     "output_type": "stream",
     "text": [
      "Converted from list: {1, 2, 3}\n",
      "Converted from tuple: {1, 2, 3, 23}\n"
     ]
    }
   ],
   "source": [
    "#converting list or tuples into set\n",
    "\n",
    "li_sample = [1,2,1,3,2]\n",
    "print('Converted from list:',set(li_sample))\n",
    "\n",
    "tup_sample = (1,2,3,3,1,3,2,23)\n",
    "print('Converted from tuple:',set(tup_sample))"
   ]
  },
  {
   "cell_type": "code",
   "execution_count": 78,
   "metadata": {},
   "outputs": [
    {
     "name": "stdout",
     "output_type": "stream",
     "text": [
      "Before: {1, 2, 3, 'hello', 'world'}\n",
      "{1, 2, 3, 234, 'hello', 'world'}\n"
     ]
    }
   ],
   "source": [
    "# Adding elements to set\n",
    "print('Before:',set_sample)\n",
    "set_sample.add(234)\n",
    "print(set_sample)"
   ]
  },
  {
   "cell_type": "code",
   "execution_count": 79,
   "metadata": {},
   "outputs": [
    {
     "name": "stdout",
     "output_type": "stream",
     "text": [
      "Before: {1, 2, 3, 234, 'hello', 'world'}\n",
      "Before: {1, 2, 3, 'hello', 'world'}\n"
     ]
    },
    {
     "data": {
      "text/plain": [
       "True"
      ]
     },
     "execution_count": 79,
     "metadata": {},
     "output_type": "execute_result"
    }
   ],
   "source": [
    "#Other operations in set\n",
    "print('Before:',set_sample)\n",
    "set_sample.remove(234) # removes the element 234\n",
    "print('Before:',set_sample)\n",
    "1 in set_sample # Checks if the element is present in the set or not, retrurns True or False respectively "
   ]
  },
  {
   "cell_type": "code",
   "execution_count": 84,
   "metadata": {},
   "outputs": [
    {
     "name": "stdout",
     "output_type": "stream",
     "text": [
      "{'common'}\n",
      "{1, 2, 3, 11, 12, 13, 'common'}\n",
      "True\n"
     ]
    }
   ],
   "source": [
    "# Mathematical operations in Set\n",
    "\n",
    "set1 = {1,2,3,'common'}\n",
    "set2 = {11,12,13,'common'}\n",
    "set3 = {1,2}\n",
    "\n",
    "print(set1&set2) # the & operator gives the intersection of both the sets\n",
    "print(set1.union(set2)) # the .union method gives the intersection of both the sets\n",
    "print(set3.issubset(set1)) # checks if a set is subset of another set, and returns Ture or False respectively"
   ]
  },
  {
   "cell_type": "code",
   "execution_count": null,
   "metadata": {},
   "outputs": [],
   "source": [
    "# Dictionaries are another data structures, they store a combination of Key-Value pairs. They keys are immutable and unique"
   ]
  },
  {
   "cell_type": "code",
   "execution_count": 98,
   "metadata": {},
   "outputs": [
    {
     "name": "stdout",
     "output_type": "stream",
     "text": [
      "{'Sachin': ['Bowler', 'Batsman'], 'Bret Lee': 'Bowler', 'Ricky': ['Batsman', 'Captain']}\n",
      "{'Sachin': ['Bowler', 'Batsman'], 'Bret Lee': 'Bowler', 'Ricky': ['Batsman', 'Captain'], 'Kumble': ['Bowler', 'Captain']}\n"
     ]
    }
   ],
   "source": [
    "dic = {'Sachin':['Bowler','Batsman'],'Bret Lee':'Bowler','Ricky':['Batsman','Captain']}\n",
    "print(dic)\n",
    "dic['Kumble']=['Bowler',\"Captain\"]\n",
    "print(dic)"
   ]
  },
  {
   "cell_type": "code",
   "execution_count": 99,
   "metadata": {},
   "outputs": [
    {
     "name": "stdout",
     "output_type": "stream",
     "text": [
      "['Bowler', 'Batsman']\n",
      "Captain\n",
      "Before:\n",
      " {'Sachin': ['Bowler', 'Batsman'], 'Bret Lee': 'Bowler', 'Ricky': ['Batsman', 'Captain'], 'Kumble': ['Bowler', 'Captain']}\n",
      "After:\n",
      " {'Sachin': ['Bowler', 'Batsman'], 'Bret Lee': 'Bowler', 'Kumble': ['Bowler', 'Captain']}\n"
     ]
    }
   ],
   "source": [
    "# Accessing and deleting values\n",
    "print(dic['Sachin']) #prints value of the Key - 'Sachin'\n",
    "print(dic['Kumble'][1]) #prints the 2nd item of the value of Key-'Kumble'\n",
    "\n",
    "print('Before:\\n',dic)\n",
    "del(dic['Ricky'])\n",
    "print('After:\\n',dic)"
   ]
  },
  {
   "cell_type": "code",
   "execution_count": 101,
   "metadata": {},
   "outputs": [
    {
     "name": "stdout",
     "output_type": "stream",
     "text": [
      "Keys- dict_keys(['Sachin', 'Bret Lee', 'Kumble'])\n",
      "Values: dict_values([['Bowler', 'Batsman'], 'Bowler', ['Bowler', 'Captain']])\n"
     ]
    }
   ],
   "source": [
    "#print all key and values of a dictionary\n",
    "print('Keys-',dic.keys())\n",
    "print('Values:',dic.values())"
   ]
  },
  {
   "cell_type": "code",
   "execution_count": null,
   "metadata": {},
   "outputs": [],
   "source": []
  }
 ],
 "metadata": {},
 "nbformat": 4,
 "nbformat_minor": 2
}
