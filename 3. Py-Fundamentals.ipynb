{
 "cells": [
  {
   "cell_type": "code",
   "execution_count": null,
   "metadata": {},
   "outputs": [],
   "source": [
    "'''Basic programming fundamentals - \n",
    "Conditioning and comparison operators, \n",
    "loops, iteration, \n",
    "Functions, \n",
    "Objects and Classes \n",
    "'''"
   ]
  },
  {
   "cell_type": "code",
   "execution_count": 6,
   "metadata": {},
   "outputs": [],
   "source": [
    "# Comparison Operators >,  <,  <=,  >=,  !\n",
    "a = 10"
   ]
  },
  {
   "cell_type": "code",
   "execution_count": 7,
   "metadata": {},
   "outputs": [
    {
     "data": {
      "text/plain": [
       "False"
      ]
     },
     "execution_count": 7,
     "metadata": {},
     "output_type": "execute_result"
    }
   ],
   "source": [
    "a>10"
   ]
  },
  {
   "cell_type": "code",
   "execution_count": 8,
   "metadata": {},
   "outputs": [
    {
     "data": {
      "text/plain": [
       "True"
      ]
     },
     "execution_count": 8,
     "metadata": {},
     "output_type": "execute_result"
    }
   ],
   "source": [
    "a==10"
   ]
  },
  {
   "cell_type": "code",
   "execution_count": 13,
   "metadata": {},
   "outputs": [
    {
     "data": {
      "text/plain": [
       "False"
      ]
     },
     "execution_count": 13,
     "metadata": {},
     "output_type": "execute_result"
    }
   ],
   "source": [
    "a<10"
   ]
  },
  {
   "cell_type": "code",
   "execution_count": 15,
   "metadata": {},
   "outputs": [
    {
     "data": {
      "text/plain": [
       "True"
      ]
     },
     "execution_count": 15,
     "metadata": {},
     "output_type": "execute_result"
    }
   ],
   "source": [
    "a>=10"
   ]
  },
  {
   "cell_type": "code",
   "execution_count": 17,
   "metadata": {},
   "outputs": [
    {
     "data": {
      "text/plain": [
       "True"
      ]
     },
     "execution_count": 17,
     "metadata": {},
     "output_type": "execute_result"
    }
   ],
   "source": [
    "a<=10"
   ]
  },
  {
   "cell_type": "code",
   "execution_count": 19,
   "metadata": {},
   "outputs": [
    {
     "data": {
      "text/plain": [
       "False"
      ]
     },
     "execution_count": 19,
     "metadata": {},
     "output_type": "execute_result"
    }
   ],
   "source": [
    "a!=10"
   ]
  },
  {
   "cell_type": "code",
   "execution_count": 21,
   "metadata": {},
   "outputs": [
    {
     "name": "stdout",
     "output_type": "stream",
     "text": [
      "False\n"
     ]
    }
   ],
   "source": [
    "string = \"Hey\" #They work with strings as well\n",
    "print(string==\"ho\")"
   ]
  },
  {
   "cell_type": "code",
   "execution_count": 25,
   "metadata": {},
   "outputs": [],
   "source": [
    "#Branching - They allow us to run different statement based on different inputs\n",
    "# if, else and elif(else if)"
   ]
  },
  {
   "cell_type": "code",
   "execution_count": 29,
   "metadata": {},
   "outputs": [
    {
     "name": "stdout",
     "output_type": "stream",
     "text": [
      "Hey you are exactly 18 years old!\n"
     ]
    }
   ],
   "source": [
    "''' \n",
    "We can check a particular condition and perform certain tasks based on that.\n",
    "Here we are checking if the age is greater than 18, less than 18 or equal to 18, \n",
    "and accordingly print out messages(we can do other stuffs as well)\n",
    "'''\n",
    "age = 18\n",
    "\n",
    "if(age>18):\n",
    "    print('You are above 18!')\n",
    "elif age==18:\n",
    "    print('Hey you are exactly 18 years old!')\n",
    "else:\n",
    "    print('You are below 18')"
   ]
  },
  {
   "cell_type": "code",
   "execution_count": 70,
   "metadata": {},
   "outputs": [
    {
     "name": "stdout",
     "output_type": "stream",
     "text": [
      "\n",
      "AND Operations:\n",
      "False\n",
      "True\n",
      "\n",
      "OR Operations:\n",
      "True\n",
      "True\n",
      "\n",
      "NOT Operations:\n",
      "True\n"
     ]
    }
   ],
   "source": [
    "'''\n",
    "Logical Operators take boolean values and produce boolean values.\n",
    "Syntax - (Boolean Value) <Logical Operator> (Boolean Value)\n",
    "AND - It checks if both the boolean value is True, if either is False - It returns a False. \n",
    "OR - It returns True if either of the boolean value is True. Returns False only when both of them are False\n",
    "NOT - It returns the opposite of what the boolean value is\n",
    "'''\n",
    "# AND operator\n",
    "print('\\nAND Operations:')\n",
    "print((True) and (False)) \n",
    "print((True) & (True))\n",
    "\n",
    "# OR operator\n",
    "print('\\nOR Operations:')\n",
    "print((True) or (False)) \n",
    "print((True) | (True))\n",
    "\n",
    "# NOT operator\n",
    "print('\\nNOT Operations:')\n",
    "print(not(False)) \n"
   ]
  },
  {
   "cell_type": "code",
   "execution_count": 5,
   "metadata": {},
   "outputs": [
    {
     "name": "stdout",
     "output_type": "stream",
     "text": [
      "List Before: [1, 2, 3, 4, 5, 6]\n",
      "List After:  [11, 12, 13, 14, 15, 16]\n"
     ]
    }
   ],
   "source": [
    "#loops - they used when we want to perform a set of task continously for a fixed period of time. \n",
    "# There are for loops and while loops\n",
    "# syntax -  for <condition>: (statement) | while(condition): (statement)\n",
    "\n",
    "list_sample = [1,2,3,4,5,6]\n",
    "print('List Before:',list_sample)\n",
    "#using to loop to iterate through each elements of the list and increase each item by 10\n",
    "\n",
    "for i in range(0,6):\n",
    "    list_sample[i]=list_sample[i]+10\n",
    "\n",
    "print('List After: ',list_sample)\n"
   ]
  },
  {
   "cell_type": "code",
   "execution_count": 21,
   "metadata": {},
   "outputs": [
    {
     "name": "stdout",
     "output_type": "stream",
     "text": [
      "item:  11\n",
      "item:  12\n",
      "item:  13\n",
      "item:  14\n",
      "item:  15\n",
      "item:  16\n"
     ]
    }
   ],
   "source": [
    "# we can directly iterate through items by creating temp. variable\n",
    "\n",
    "for list_item in list_sample2:\n",
    "    print('item: ',list_item)"
   ]
  },
  {
   "cell_type": "code",
   "execution_count": 4,
   "metadata": {},
   "outputs": [
    {
     "name": "stdout",
     "output_type": "stream",
     "text": [
      "0\n",
      "1\n",
      "2\n",
      "3\n",
      "4\n",
      "5\n",
      "6\n",
      "7\n",
      "8\n",
      "9\n"
     ]
    }
   ],
   "source": [
    "# While loops are run when a certain condition is met, and will break once the condition is not fulfilled\n",
    "a=0\n",
    "while(a<10):\n",
    "    print(a)\n",
    "    a=a+1\n",
    "        "
   ]
  },
  {
   "cell_type": "code",
   "execution_count": 27,
   "metadata": {},
   "outputs": [
    {
     "name": "stdout",
     "output_type": "stream",
     "text": [
      "length of  list is: 4\n",
      "Length of \"Hello\" is: 5\n",
      "HELLO\n",
      "hello\n"
     ]
    },
    {
     "data": {
      "text/plain": [
       "3"
      ]
     },
     "execution_count": 27,
     "metadata": {},
     "output_type": "execute_result"
    }
   ],
   "source": [
    "''' \n",
    "funcitons are a piece of code that does a particular task,they are generally written so that they can be reused\n",
    "Typically, functions take input(s) and return a result. \n",
    "In case a function doesn't return anything python by default returns NONE\n",
    "There are a number of inbuilt functions which can be used to \n",
    "perform a particular task. We can write our own functions as well\n",
    "'''\n",
    "\n",
    "# Few inbuilt functions in Python\n",
    "\n",
    "s_list = ['ab','cd',1,2]\n",
    "\n",
    "print(\"length of  list is:\",len(s_list)) #The len() function returns the length of the input sequence\n",
    "print('Length of \"Hello\" is:',len(\"Hello\"))\n",
    "\n",
    "print(\"hello\".upper()) #upper() takes a string and changes it to upper case\n",
    "print(\"HELLo\".lower()) #lower() takes a string and changes it to lower case\n",
    "\n",
    "sum(s_list[2:4]) #sum() returns the sum of items"
   ]
  },
  {
   "cell_type": "code",
   "execution_count": 34,
   "metadata": {},
   "outputs": [
    {
     "name": "stdout",
     "output_type": "stream",
     "text": [
      "22.4\n",
      "Calling function another time: 100\n",
      "Function that just prints!\n"
     ]
    }
   ],
   "source": [
    "# we can define our own functions, call the function and get results\n",
    "\n",
    "def add(a,b):\n",
    "    c = a+b\n",
    "    return c\n",
    "\n",
    "def dummy():\n",
    "    print('Function that just prints!')\n",
    "    return None # this is optinal\n",
    "\n",
    "\n",
    "x = add(10,12.4)\n",
    "print(x)\n",
    "\n",
    "print(\"Calling function another time:\",add(99,1)) # this means we can call the function add() multiple times and reuse the code\n",
    "\n",
    "dummy() #this just calls the function without passing any argument or collecting any!\n",
    "\n",
    "\n"
   ]
  },
  {
   "cell_type": "code",
   "execution_count": 10,
   "metadata": {},
   "outputs": [
    {
     "name": "stdout",
     "output_type": "stream",
     "text": [
      "\n",
      "John has taken admission.\n",
      "Subjects opted are:\n",
      "_Maths\n",
      "\n",
      "Jhonny has taken admission.\n",
      "Subjects opted are:\n",
      "_Maths\n",
      "_Biology\n",
      "\n",
      "Janardhan has taken admission.\n",
      "Subjects opted are:\n",
      "_Social Science\n",
      "_Biology\n",
      "_Economics\n"
     ]
    }
   ],
   "source": [
    "'''\n",
    "At times we don't know how many arguments we will pass to a function. We can pass arbitary number of arguments \n",
    "using the * operator. It should always be mentioned last in the function definition. We can also pass multiple keyword \n",
    "argument with the help of ** operator\n",
    "'''\n",
    "\n",
    "def student_subject(name, *subjects):\n",
    "    type(subjects)\n",
    "    print(\"\\n\"+name+\" has taken admission.\")\n",
    "    print(\"Subjects opted are:\")\n",
    "    for sub in subjects:\n",
    "        print(\"_\" + sub)\n",
    "        \n",
    "student_subject('John', 'Maths')\n",
    "student_subject('Jhonny', 'Maths', 'Biology')\n",
    "student_subject('Janardhan', 'Social Science', 'Biology','Economics')"
   ]
  },
  {
   "cell_type": "code",
   "execution_count": 47,
   "metadata": {},
   "outputs": [
    {
     "name": "stdout",
     "output_type": "stream",
     "text": [
      "\n",
      "Details for Jaipur is:\n",
      "- Temperature :12 degrees\n",
      "\n",
      "Details for Delhi is:\n",
      "- Temperature :8 degrees\n",
      "- Humidity :14%\n",
      "\n",
      "Details for Ahmedabad is:\n",
      "- Temperature :18 degrees\n",
      "- Humidity :34%\n",
      "- WindSpeed :30mph\n"
     ]
    }
   ],
   "source": [
    "# passing arbitary keywords as argument\n",
    "def city_temp(city,**tempDet):\n",
    "    print('\\nDetails for '+city+\" is:\")\n",
    "    for key, value in tempDet.items():\n",
    "        print(\"-\",key,value)\n",
    "\n",
    "city_temp('Jaipur',Temperature=\":12 degrees\")\n",
    "city_temp('Delhi', Temperature =\":8 degrees\", Humidity=':14%')\n",
    "city_temp('Ahmedabad', Temperature =\":18 degrees\", Humidity=':34%', WindSpeed=':30mph')"
   ]
  },
  {
   "cell_type": "code",
   "execution_count": 46,
   "metadata": {},
   "outputs": [
    {
     "name": "stdout",
     "output_type": "stream",
     "text": [
      "23\n",
      "Local variable: 0\n",
      "Length of the list: 5\n"
     ]
    }
   ],
   "source": [
    "# Another important aspect in functions are scope of variable\n",
    "# scope of variable means the part of code where the variable is valid e.g if there's a variable in a function\n",
    "# then its scope is within that function. Outside of that function, it has no value. If we want the scope of variable\n",
    "# to be in the entire code then we need to explicitly mention it , it is done by the keyword global\n",
    "\n",
    "\n",
    "ex = [1,2,3,4,10]\n",
    "\n",
    "def list_sum(a):\n",
    "    value = 3\n",
    "    global length\n",
    "    length = len(a)\n",
    "    return(sum(a)+value)\n",
    "\n",
    "value = 0\n",
    "print(list_sum(ex))\n",
    "print('Local variable:',value) # prints the value which is inside the scope\n",
    "print('Length of the list:',length)\n",
    "\n",
    "# Notice even though 2 variables have same name(value), the value inside the function has limited scope inside the function.\n",
    "# Hence, the print statement outputs 0, but as we have mentioned the variable length as global we can access it outside the \n",
    "# function. Hence, the scope of the variable is global to the entire code.\n"
   ]
  },
  {
   "cell_type": "code",
   "execution_count": 67,
   "metadata": {},
   "outputs": [
    {
     "name": "stdout",
     "output_type": "stream",
     "text": [
      "Ford\n",
      "Ford 12500\n"
     ]
    }
   ],
   "source": [
    "# Objects, Methods and Classes\n",
    "'''\n",
    "Everything in Python is object. All data types like int, string, float, list, dictionary etc are python objects.\n",
    "Everytime we create an integer we are basically creating an instance of type integer or an integer object.\n",
    "\n",
    "Methods is a function that every instance of a class provides e.g sort(), upper()\n",
    "\n",
    "Classes are like blueprint for creating an instance of the class or an object. Each class has data attribute and set of methods.\n",
    "\n",
    "'''\n",
    "\n",
    "# create a class\n",
    "\n",
    "class Car():\n",
    "    brand = \"Ford\"\n",
    "    \n",
    "# create object of the class\n",
    "car = Car() #car is the instance of the class Car\n",
    "print(car.brand)\n",
    "\n",
    "\n",
    "# There is an in-built function called init() which is exceuted everytime the class is instantiated\n",
    "# the init() function is used to assign values to object properties or other operations required for the object\n",
    "\n",
    "class CarDetails():\n",
    "    def __init__(self,brand,price):\n",
    "        self.b = brand\n",
    "        self.p = price\n",
    "\n",
    "car1 = CarDetails(\"Ford\",12500) # when this object is create, the init() is aalled and the arguments are passed.\n",
    "print(car1.b,car1.p)"
   ]
  },
  {
   "cell_type": "code",
   "execution_count": 85,
   "metadata": {},
   "outputs": [
    {
     "name": "stdout",
     "output_type": "stream",
     "text": [
      "red Apple\n",
      "I will have 2 Apple\n"
     ]
    }
   ],
   "source": [
    "# objects can also contain methods. These are basically functions that are specific to the object\n",
    "\n",
    "\n",
    "class Fruit():\n",
    "    def __init__(self,color,name):\n",
    "        self.color = color\n",
    "        self.name = name\n",
    "        \n",
    "    def my_fun(self,a):\n",
    "        self.a = a\n",
    "        print('I will have',a,''+self.name)\n",
    "\n",
    "f1=Fruit('red','Apple')\n",
    "print(f1.color,f1.name)\n",
    "f1.my_fun(2)\n",
    "\n"
   ]
  },
  {
   "cell_type": "code",
   "execution_count": 87,
   "metadata": {},
   "outputs": [
    {
     "name": "stdout",
     "output_type": "stream",
     "text": [
      "Johnny has scored 80 out of 100.\n"
     ]
    }
   ],
   "source": [
    "# The self parameter is just a reference to the current instance of the class. It is used to access the variable of the class\n",
    "# It can be named anything, but has to be the first parameter of the function\n",
    "\n",
    "class Student():\n",
    "    def __init__(anything,name,marks):\n",
    "        anything.name = name\n",
    "        anything.marks = marks\n",
    "\n",
    "stu = Student('Johnny',80)\n",
    "print(stu.name+' has scored',stu.marks,'out of 100.')\n",
    "    "
   ]
  },
  {
   "cell_type": "code",
   "execution_count": 58,
   "metadata": {},
   "outputs": [
    {
     "name": "stdout",
     "output_type": "stream",
     "text": [
      "2\n",
      "red\n",
      "12\n",
      "red\n"
     ]
    }
   ],
   "source": [
    "class Circle():\n",
    "    def __init__(self,radius,color):\n",
    "        self.radius = radius\n",
    "        self.color = color\n",
    "\n",
    "    def addCircle(self,r):\n",
    "        self.radius=self.radius+r\n",
    "        return(self.radius)\n",
    "\n",
    "\n",
    "C1 = Circle(2,'red')\n",
    "print(C1.radius)\n",
    "print(C1.color)\n",
    "\n",
    "C1.addCircle(10)\n",
    "print(C1.radius)\n",
    "print(C1.color)"
   ]
  },
  {
   "cell_type": "code",
   "execution_count": 53,
   "metadata": {},
   "outputs": [
    {
     "data": {
      "text/plain": [
       "['__class__',\n",
       " '__delattr__',\n",
       " '__dict__',\n",
       " '__dir__',\n",
       " '__doc__',\n",
       " '__eq__',\n",
       " '__format__',\n",
       " '__ge__',\n",
       " '__getattribute__',\n",
       " '__gt__',\n",
       " '__hash__',\n",
       " '__init__',\n",
       " '__init_subclass__',\n",
       " '__le__',\n",
       " '__lt__',\n",
       " '__module__',\n",
       " '__ne__',\n",
       " '__new__',\n",
       " '__reduce__',\n",
       " '__reduce_ex__',\n",
       " '__repr__',\n",
       " '__setattr__',\n",
       " '__sizeof__',\n",
       " '__str__',\n",
       " '__subclasshook__',\n",
       " '__weakref__',\n",
       " 'addCircle']"
      ]
     },
     "execution_count": 53,
     "metadata": {},
     "output_type": "execute_result"
    }
   ],
   "source": [
    "dir(Circle) #prints out the data attributes of the class. The one with __ are the default python objects."
   ]
  },
  {
   "cell_type": "code",
   "execution_count": null,
   "metadata": {},
   "outputs": [],
   "source": []
  }
 ],
 "metadata": {
  "kernelspec": {
   "display_name": "Python 3",
   "language": "python",
   "name": "python3"
  },
  "language_info": {
   "codemirror_mode": {
    "name": "ipython",
    "version": 3
   },
   "file_extension": ".py",
   "mimetype": "text/x-python",
   "name": "python",
   "nbconvert_exporter": "python",
   "pygments_lexer": "ipython3",
   "version": "3.7.1"
  }
 },
 "nbformat": 4,
 "nbformat_minor": 2
}
