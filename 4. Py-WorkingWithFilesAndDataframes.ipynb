{
 "cells": [
  {
   "cell_type": "code",
   "execution_count": null,
   "metadata": {},
   "outputs": [],
   "source": [
    "'''\n",
    "Working with files - \n",
    "Reading, Writing files, working with dataframes in Pandas\n",
    "'''"
   ]
  },
  {
   "cell_type": "code",
   "execution_count": 22,
   "metadata": {},
   "outputs": [
    {
     "name": "stdout",
     "output_type": "stream",
     "text": [
      "data.txt\n",
      "r\n",
      "The world is a beautiful place\n",
      "We must look after it.\n",
      "The wind of change\n"
     ]
    }
   ],
   "source": [
    "#Opening a file. Open() is the built-in function to open and read a file\n",
    "# We open the file using a file object via different modes like Read, Write and Append\n",
    "\n",
    "f = open('data.txt','r')\n",
    "print(f.name) #prints the name of the file\n",
    "print(f.mode) #prints the mode\n",
    "print(f.read()) #prints the content of the file\n",
    "f.close() # file should always be closed.\n"
   ]
  },
  {
   "cell_type": "code",
   "execution_count": 23,
   "metadata": {},
   "outputs": [
    {
     "name": "stdout",
     "output_type": "stream",
     "text": [
      "The world is a beautiful place\n",
      "We must look after it.\n",
      "The wind of change\n"
     ]
    }
   ],
   "source": [
    "# The best practice to open file is by with statement as it automatically closes the file\n",
    "with open('data.txt','r') as f1:\n",
    "    print(f1.read())"
   ]
  },
  {
   "cell_type": "code",
   "execution_count": 24,
   "metadata": {},
   "outputs": [],
   "source": [
    "# we can use readline() method to put each line in a list\n"
   ]
  },
  {
   "cell_type": "code",
   "execution_count": 31,
   "metadata": {},
   "outputs": [
    {
     "name": "stdout",
     "output_type": "stream",
     "text": [
      "['The world is a beautiful place\\n', 'We must look after it.\\n', 'The wind of change']\n"
     ]
    }
   ],
   "source": [
    "f2 = open('data.txt','r')\n",
    "file_list = f2.readlines()  #puts the content of the file into a list\n",
    "print(file_list) #prints the list\n",
    "f2.close() \n"
   ]
  },
  {
   "cell_type": "code",
   "execution_count": 39,
   "metadata": {},
   "outputs": [],
   "source": [
    "# Writing into files with 2 modes WRITE and APPEND\n",
    "# creates the txt file if it is not present. If present it overwrites\n",
    "sample_list = ['\\nPython is super cool','\\nWe all should learn it']\n",
    "with open('WriteEx.txt','w') as fObj:\n",
    "    fObj.write('I am writing into this file via the python script!')\n",
    "    for content in sample_list:\n",
    "        fObj.write(content)\n",
    "\n",
    "fObj = open('WriteEx.txt','a')\n",
    "fObj.write('\\n\\nAppending:')\n",
    "fObj.write('\\nPython is an Object Oriented Language')\n",
    "fObj.close()"
   ]
  },
  {
   "cell_type": "code",
   "execution_count": 46,
   "metadata": {},
   "outputs": [
    {
     "data": {
      "text/html": [
       "<div>\n",
       "<style scoped>\n",
       "    .dataframe tbody tr th:only-of-type {\n",
       "        vertical-align: middle;\n",
       "    }\n",
       "\n",
       "    .dataframe tbody tr th {\n",
       "        vertical-align: top;\n",
       "    }\n",
       "\n",
       "    .dataframe thead th {\n",
       "        text-align: right;\n",
       "    }\n",
       "</style>\n",
       "<table border=\"1\" class=\"dataframe\">\n",
       "  <thead>\n",
       "    <tr style=\"text-align: right;\">\n",
       "      <th></th>\n",
       "      <th>Date</th>\n",
       "      <th>Amount</th>\n",
       "      <th>Task</th>\n",
       "    </tr>\n",
       "  </thead>\n",
       "  <tbody>\n",
       "    <tr>\n",
       "      <th>0</th>\n",
       "      <td>12-12-18</td>\n",
       "      <td>309.0</td>\n",
       "      <td>Task1</td>\n",
       "    </tr>\n",
       "    <tr>\n",
       "      <th>1</th>\n",
       "      <td>13-12-18</td>\n",
       "      <td>234.0</td>\n",
       "      <td>Task2</td>\n",
       "    </tr>\n",
       "    <tr>\n",
       "      <th>2</th>\n",
       "      <td>14-12-18</td>\n",
       "      <td>134.0</td>\n",
       "      <td>Task1</td>\n",
       "    </tr>\n",
       "    <tr>\n",
       "      <th>3</th>\n",
       "      <td>15-12-18</td>\n",
       "      <td>384.0</td>\n",
       "      <td>Task2</td>\n",
       "    </tr>\n",
       "    <tr>\n",
       "      <th>4</th>\n",
       "      <td>16-12-18</td>\n",
       "      <td>296.5</td>\n",
       "      <td>Task2</td>\n",
       "    </tr>\n",
       "  </tbody>\n",
       "</table>\n",
       "</div>"
      ],
      "text/plain": [
       "       Date  Amount   Task\n",
       "0  12-12-18   309.0  Task1\n",
       "1  13-12-18   234.0  Task2\n",
       "2  14-12-18   134.0  Task1\n",
       "3  15-12-18   384.0  Task2\n",
       "4  16-12-18   296.5  Task2"
      ]
     },
     "execution_count": 46,
     "metadata": {},
     "output_type": "execute_result"
    }
   ],
   "source": [
    "# Working with a handy python library - Pandas. Pandas has pre-built list of libraries and methods \n",
    "\n",
    "import pandas as pd\n",
    "\n",
    "file_path = \"data.csv\"\n",
    "\n",
    "df = pd.read_csv(file_path)\n",
    "df.head() #prints the first 5 rows of the csv file"
   ]
  },
  {
   "cell_type": "code",
   "execution_count": 47,
   "metadata": {},
   "outputs": [
    {
     "name": "stdout",
     "output_type": "stream",
     "text": [
      "   id  marks       name\n",
      "0  12     89       John\n",
      "1  34     34     Jhonny\n",
      "2  12     65  Janardhan\n"
     ]
    }
   ],
   "source": [
    "#Dataframes are similar to tables where data is stored in a labelled manner with rows and columns. Each Column has a name\n",
    "\n",
    "dic = {'id':[12,34,12],'marks':[89,34,65],'name':['John','Jhonny','Janardhan']}\n",
    "\n",
    "df_new = pd.DataFrame(dic)\n",
    "print(df_new)\n",
    "\n"
   ]
  },
  {
   "cell_type": "code",
   "execution_count": 53,
   "metadata": {},
   "outputs": [
    {
     "data": {
      "text/html": [
       "<div>\n",
       "<style scoped>\n",
       "    .dataframe tbody tr th:only-of-type {\n",
       "        vertical-align: middle;\n",
       "    }\n",
       "\n",
       "    .dataframe tbody tr th {\n",
       "        vertical-align: top;\n",
       "    }\n",
       "\n",
       "    .dataframe thead th {\n",
       "        text-align: right;\n",
       "    }\n",
       "</style>\n",
       "<table border=\"1\" class=\"dataframe\">\n",
       "  <thead>\n",
       "    <tr style=\"text-align: right;\">\n",
       "      <th></th>\n",
       "      <th>Date</th>\n",
       "      <th>Amount</th>\n",
       "      <th>Task</th>\n",
       "    </tr>\n",
       "  </thead>\n",
       "  <tbody>\n",
       "    <tr>\n",
       "      <th>0</th>\n",
       "      <td>12-12-18</td>\n",
       "      <td>309.0</td>\n",
       "      <td>Task1</td>\n",
       "    </tr>\n",
       "    <tr>\n",
       "      <th>1</th>\n",
       "      <td>13-12-18</td>\n",
       "      <td>234.0</td>\n",
       "      <td>Task2</td>\n",
       "    </tr>\n",
       "    <tr>\n",
       "      <th>2</th>\n",
       "      <td>14-12-18</td>\n",
       "      <td>134.0</td>\n",
       "      <td>Task1</td>\n",
       "    </tr>\n",
       "    <tr>\n",
       "      <th>3</th>\n",
       "      <td>15-12-18</td>\n",
       "      <td>384.0</td>\n",
       "      <td>Task2</td>\n",
       "    </tr>\n",
       "    <tr>\n",
       "      <th>4</th>\n",
       "      <td>16-12-18</td>\n",
       "      <td>296.5</td>\n",
       "      <td>Task2</td>\n",
       "    </tr>\n",
       "  </tbody>\n",
       "</table>\n",
       "</div>"
      ],
      "text/plain": [
       "       Date  Amount   Task\n",
       "0  12-12-18   309.0  Task1\n",
       "1  13-12-18   234.0  Task2\n",
       "2  14-12-18   134.0  Task1\n",
       "3  15-12-18   384.0  Task2\n",
       "4  16-12-18   296.5  Task2"
      ]
     },
     "execution_count": 53,
     "metadata": {},
     "output_type": "execute_result"
    }
   ],
   "source": [
    "# Accessing the dataframe\n",
    "df.head()\n"
   ]
  },
  {
   "cell_type": "code",
   "execution_count": 61,
   "metadata": {},
   "outputs": [
    {
     "name": "stdout",
     "output_type": "stream",
     "text": [
      "12-12-18\n",
      "309.0\n",
      "Task1\n"
     ]
    }
   ],
   "source": [
    "print(df.iloc[0,0])\n",
    "print(df.iloc[0,1])\n",
    "print(df.iloc[0,2])"
   ]
  },
  {
   "cell_type": "code",
   "execution_count": 62,
   "metadata": {},
   "outputs": [
    {
     "data": {
      "text/plain": [
       "0    Task1\n",
       "1    Task2\n",
       "Name: Task, dtype: object"
      ]
     },
     "execution_count": 62,
     "metadata": {},
     "output_type": "execute_result"
    }
   ],
   "source": [
    "# slicing dataframes\n",
    "df2 = df.iloc[0:2,2]\n",
    "df2.head()"
   ]
  },
  {
   "cell_type": "code",
   "execution_count": 63,
   "metadata": {},
   "outputs": [],
   "source": [
    "#saving dataframe into a new object\n",
    "df2.to_csv('newData.csv')"
   ]
  },
  {
   "cell_type": "code",
   "execution_count": 65,
   "metadata": {},
   "outputs": [
    {
     "data": {
      "text/html": [
       "<div>\n",
       "<style scoped>\n",
       "    .dataframe tbody tr th:only-of-type {\n",
       "        vertical-align: middle;\n",
       "    }\n",
       "\n",
       "    .dataframe tbody tr th {\n",
       "        vertical-align: top;\n",
       "    }\n",
       "\n",
       "    .dataframe thead th {\n",
       "        text-align: right;\n",
       "    }\n",
       "</style>\n",
       "<table border=\"1\" class=\"dataframe\">\n",
       "  <thead>\n",
       "    <tr style=\"text-align: right;\">\n",
       "      <th></th>\n",
       "      <th>Date</th>\n",
       "      <th>Amount</th>\n",
       "      <th>Task</th>\n",
       "    </tr>\n",
       "  </thead>\n",
       "  <tbody>\n",
       "    <tr>\n",
       "      <th>0</th>\n",
       "      <td>12-12-18</td>\n",
       "      <td>309.0</td>\n",
       "      <td>Task1</td>\n",
       "    </tr>\n",
       "    <tr>\n",
       "      <th>1</th>\n",
       "      <td>13-12-18</td>\n",
       "      <td>234.0</td>\n",
       "      <td>Task2</td>\n",
       "    </tr>\n",
       "    <tr>\n",
       "      <th>2</th>\n",
       "      <td>14-12-18</td>\n",
       "      <td>134.0</td>\n",
       "      <td>Task1</td>\n",
       "    </tr>\n",
       "    <tr>\n",
       "      <th>3</th>\n",
       "      <td>15-12-18</td>\n",
       "      <td>384.0</td>\n",
       "      <td>Task2</td>\n",
       "    </tr>\n",
       "    <tr>\n",
       "      <th>4</th>\n",
       "      <td>16-12-18</td>\n",
       "      <td>296.5</td>\n",
       "      <td>Task2</td>\n",
       "    </tr>\n",
       "  </tbody>\n",
       "</table>\n",
       "</div>"
      ],
      "text/plain": [
       "       Date  Amount   Task\n",
       "0  12-12-18   309.0  Task1\n",
       "1  13-12-18   234.0  Task2\n",
       "2  14-12-18   134.0  Task1\n",
       "3  15-12-18   384.0  Task2\n",
       "4  16-12-18   296.5  Task2"
      ]
     },
     "execution_count": 65,
     "metadata": {},
     "output_type": "execute_result"
    }
   ],
   "source": [
    "# doing some data preprocessing\n",
    "df.head()"
   ]
  },
  {
   "cell_type": "code",
   "execution_count": 69,
   "metadata": {},
   "outputs": [
    {
     "name": "stdout",
     "output_type": "stream",
     "text": [
      "0      True\n",
      "1     False\n",
      "2     False\n",
      "3      True\n",
      "4     False\n",
      "5      True\n",
      "6      True\n",
      "7      True\n",
      "8      True\n",
      "9      True\n",
      "10     True\n",
      "11     True\n",
      "12     True\n",
      "13     True\n",
      "14     True\n",
      "15     True\n",
      "16     True\n",
      "17     True\n",
      "18     True\n",
      "19     True\n",
      "Name: Amount, dtype: bool\n"
     ]
    },
    {
     "data": {
      "text/html": [
       "<div>\n",
       "<style scoped>\n",
       "    .dataframe tbody tr th:only-of-type {\n",
       "        vertical-align: middle;\n",
       "    }\n",
       "\n",
       "    .dataframe tbody tr th {\n",
       "        vertical-align: top;\n",
       "    }\n",
       "\n",
       "    .dataframe thead th {\n",
       "        text-align: right;\n",
       "    }\n",
       "</style>\n",
       "<table border=\"1\" class=\"dataframe\">\n",
       "  <thead>\n",
       "    <tr style=\"text-align: right;\">\n",
       "      <th></th>\n",
       "      <th>Date</th>\n",
       "      <th>Amount</th>\n",
       "      <th>Task</th>\n",
       "    </tr>\n",
       "  </thead>\n",
       "  <tbody>\n",
       "    <tr>\n",
       "      <th>1</th>\n",
       "      <td>13-12-18</td>\n",
       "      <td>234.0</td>\n",
       "      <td>Task2</td>\n",
       "    </tr>\n",
       "    <tr>\n",
       "      <th>2</th>\n",
       "      <td>14-12-18</td>\n",
       "      <td>134.0</td>\n",
       "      <td>Task1</td>\n",
       "    </tr>\n",
       "    <tr>\n",
       "      <th>4</th>\n",
       "      <td>16-12-18</td>\n",
       "      <td>296.5</td>\n",
       "      <td>Task2</td>\n",
       "    </tr>\n",
       "  </tbody>\n",
       "</table>\n",
       "</div>"
      ],
      "text/plain": [
       "       Date  Amount   Task\n",
       "1  13-12-18   234.0  Task2\n",
       "2  14-12-18   134.0  Task1\n",
       "4  16-12-18   296.5  Task2"
      ]
     },
     "execution_count": 69,
     "metadata": {},
     "output_type": "execute_result"
    }
   ],
   "source": [
    "print(df['Amount']>300) # this gives a series of boolean results\n",
    "newDF = df[df['Amount']<300] # creating a new dataframe with certain conditions\n",
    "newDF.head() #printing the new dataframe created where amount is less than 300"
   ]
  },
  {
   "cell_type": "code",
   "execution_count": null,
   "metadata": {},
   "outputs": [],
   "source": []
  },
  {
   "cell_type": "code",
   "execution_count": null,
   "metadata": {},
   "outputs": [],
   "source": []
  }
 ],
 "metadata": {
  "kernelspec": {
   "display_name": "Python 3",
   "language": "python",
   "name": "python3"
  },
  "language_info": {
   "codemirror_mode": {
    "name": "ipython",
    "version": 3
   },
   "file_extension": ".py",
   "mimetype": "text/x-python",
   "name": "python",
   "nbconvert_exporter": "python",
   "pygments_lexer": "ipython3",
   "version": "3.7.1"
  }
 },
 "nbformat": 4,
 "nbformat_minor": 2
}
