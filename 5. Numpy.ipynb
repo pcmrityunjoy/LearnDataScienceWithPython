{
 "cells": [
  {
   "cell_type": "code",
   "execution_count": 1,
   "metadata": {},
   "outputs": [],
   "source": [
    "# Numpy is a python library for performing scientific calculations. Pandas is built on top of Numpy"
   ]
  },
  {
   "cell_type": "code",
   "execution_count": 18,
   "metadata": {},
   "outputs": [
    {
     "name": "stdout",
     "output_type": "stream",
     "text": [
      "The type is : <class 'numpy.ndarray'>\n",
      "The data type is : int32\n"
     ]
    },
    {
     "data": {
      "text/plain": [
       "8"
      ]
     },
     "execution_count": 18,
     "metadata": {},
     "output_type": "execute_result"
    }
   ],
   "source": [
    "#creating a numpy array or NDarray. A numpy array is similar to list but has a fixed size and same data type\n",
    "\n",
    "import numpy as np\n",
    "\n",
    "new_array = np.array([1,22,57,2323,12,3223,23234,24412121])\n",
    "\n",
    "\n",
    "print(\"The type is :\",type(new_array)) #prints the type of the array\n",
    "print(\"The data type is :\",new_array.dtype) #prints the datatype of the array\n",
    "new_array.size #Gives the size of the array\n"
   ]
  },
  {
   "cell_type": "code",
   "execution_count": 22,
   "metadata": {},
   "outputs": [
    {
     "name": "stdout",
     "output_type": "stream",
     "text": [
      "[100  22  57]\n"
     ]
    }
   ],
   "source": [
    "# updating the array, scliing the array\n",
    "\n",
    "new_array[0] = 100\n",
    "print(new_array[0:3])"
   ]
  },
  {
   "cell_type": "code",
   "execution_count": 27,
   "metadata": {},
   "outputs": [
    {
     "data": {
      "text/plain": [
       "array([[12, 13, 14],\n",
       "       [ 1,  2,  3],\n",
       "       [22, 23, 24]])"
      ]
     },
     "execution_count": 27,
     "metadata": {},
     "output_type": "execute_result"
    }
   ],
   "source": [
    "# Working with 2D arrays\n",
    "list = [[12,13,14],[1,2,3],[22,23,24]]\n",
    "Twodarray = np.array(list)\n",
    "Twodarray"
   ]
  },
  {
   "cell_type": "code",
   "execution_count": 30,
   "metadata": {},
   "outputs": [
    {
     "name": "stdout",
     "output_type": "stream",
     "text": [
      "2\n",
      "(3, 3)\n"
     ]
    }
   ],
   "source": [
    "print(Twodarray.ndim) # gives the dimension of the array\n",
    "print(Twodarray.shape) #gives the shape of the array"
   ]
  },
  {
   "cell_type": "code",
   "execution_count": 37,
   "metadata": {},
   "outputs": [
    {
     "name": "stdout",
     "output_type": "stream",
     "text": [
      "14\n",
      "13\n",
      "[12 13]\n",
      "[14  3 24]\n"
     ]
    }
   ],
   "source": [
    "#Accessing the 2-D array and slicing\n",
    "\n",
    "print(Twodarray[0][2])\n",
    "print(Twodarray[0][1])\n",
    "\n",
    "#sclicing\n",
    "print(Twodarray[0,:2])\n",
    "print(Twodarray[0:3,2])"
   ]
  },
  {
   "cell_type": "code",
   "execution_count": null,
   "metadata": {},
   "outputs": [],
   "source": []
  },
  {
   "cell_type": "code",
   "execution_count": null,
   "metadata": {},
   "outputs": [],
   "source": []
  },
  {
   "cell_type": "code",
   "execution_count": null,
   "metadata": {},
   "outputs": [],
   "source": []
  },
  {
   "cell_type": "code",
   "execution_count": null,
   "metadata": {},
   "outputs": [],
   "source": []
  },
  {
   "cell_type": "code",
   "execution_count": null,
   "metadata": {},
   "outputs": [],
   "source": []
  },
  {
   "cell_type": "code",
   "execution_count": null,
   "metadata": {},
   "outputs": [],
   "source": []
  }
 ],
 "metadata": {
  "kernelspec": {
   "display_name": "Python 3",
   "language": "python",
   "name": "python3"
  },
  "language_info": {
   "codemirror_mode": {
    "name": "ipython",
    "version": 3
   },
   "file_extension": ".py",
   "mimetype": "text/x-python",
   "name": "python",
   "nbconvert_exporter": "python",
   "pygments_lexer": "ipython3",
   "version": "3.7.1"
  }
 },
 "nbformat": 4,
 "nbformat_minor": 2
}
